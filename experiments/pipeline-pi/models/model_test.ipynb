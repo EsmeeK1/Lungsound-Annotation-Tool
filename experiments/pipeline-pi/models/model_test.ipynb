{
  "cells": [
    {
      "cell_type": "markdown",
      "metadata": {},
      "source": [
        "# model_test.ipynb — Hoest vs Normaal (live mic)\n",
        "Deze notebook laadt de bundel (TFLite + manifest + labels + preproces) en test live via de microfoon met **vensters van 3.0 s** en **0 s overlap** (dus non-overlapping sliding window).\n",
        "\n",
        "Zorg dat de bundelbestanden beschikbaar zijn (lokaal pad hieronder). Je kunt dit notebook later één-op-één hergebruiken op de Pi; alleen het pad en eventuele device-namen kunnen verschillen."
      ]
    },
    {
      "cell_type": "markdown",
      "metadata": {},
      "source": [
        "## 0) Vereisten installeren\n",
        "Als je deze packages nog niet hebt:\n",
        "- `tflite-runtime` **of** `tensorflow` (voor de TFLite interpreter)\n",
        "- `sounddevice` (microfoon)\n",
        "- `soundfile` (wav I/O voor offline test)\n",
        "- `librosa`, `scipy` (preprocessing)\n",
        "\n",
        "Op macOS of Linux moet je mogelijk microfoonrechten toestaan voor je terminal/IDE."
      ]
    },
    {
      "cell_type": "code",
      "execution_count": null,
      "metadata": {},
      "outputs": [],
      "source": [
        "# !pip install --upgrade pip\n",
        "# Kies bij voorkeur tflite-runtime; zo niet, dan fallback naar tensorflow\n",
        "# !pip install tflite-runtime==2.14.0 || pip install tensorflow==2.17.0\n",
        "# !pip install sounddevice soundfile librosa scipy numpy"
      ]
    },
    {
      "cell_type": "markdown",
      "metadata": {},
      "source": [
        "## 1) Paden & bundel inlezen\n",
        "Pas `BUNDLE_DIR` aan naar de map waar `cnn_normaal_vs_hoest.tflite`, `labels.json`, `manifest.json` en `preproces.py` staan."
      ]
    },
    {
      "cell_type": "code",
      "execution_count": 2,
      "metadata": {},
      "outputs": [
        {
          "name": "stdout",
          "output_type": "stream",
          "text": [
            "BUNDLE_DIR = C:\\Users\\Esmee Werk\\Documents\\Persoonlijke Projecten\\Lungsound-Annotation-Tool\\experiments\\pipeline-pi\\models\\bundles\\hart-vs-hoest-1.0.0\n",
            "DATA_DIR = C:\\Users\\Esmee Werk\\Documents\\Persoonlijke Projecten\\Lungsound-Annotation-Tool\\experiments\\data\n"
          ]
        },
        {
          "data": {
            "text/plain": [
              "(['Hart', 'Hoest'],\n",
              " {'name': 'hart-vs-hoest',\n",
              "  'version': '1.0.0',\n",
              "  'preprocess_mode': 'plugin',\n",
              "  'sample_rate': 15750,\n",
              "  'raw_window_seconds': 3.0,\n",
              "  'stft': {'n_fft': 1024, 'hop': 256, 'window': 'hann'},\n",
              "  'bandpass': {'low_hz': 20.0,\n",
              "   'high_hz': 600.0,\n",
              "   'order': 4,\n",
              "   'zero_phase': True},\n",
              "  'input_shape': [513, 182, 1],\n",
              "  'input_dtype': 'float32',\n",
              "  'num_classes': 2})"
            ]
          },
          "execution_count": 2,
          "metadata": {},
          "output_type": "execute_result"
        }
      ],
      "source": [
        "from pathlib import Path\n",
        "import json, importlib.util, sys\n",
        "\n",
        "# >>> Paden instellen <<<\n",
        "# Notebook staat in models/\n",
        "# Bundel zit in models/bundles/hoest-vs-normaal-1.0.0\n",
        "# Opnames staan in ../../data/\n",
        "CANDIDATES = [\n",
        "    Path(\"bundles/hart-vs-hoest-1.0.0\"),   # hoofdpad van de bundel\n",
        "    Path(\".\"),                                # fallback: huidige map\n",
        "    Path(\"/mnt/data\"),                        # fallback: uploadlocatie\n",
        "]\n",
        "\n",
        "for c in CANDIDATES:\n",
        "    if (c / \"cnn_hoest_vs_hart.tflite\").exists() and (c / \"preproces.py\").exists():\n",
        "        BUNDLE_DIR = c\n",
        "        break\n",
        "else:\n",
        "    raise FileNotFoundError(\n",
        "        \"Kan bundelbestanden niet vinden. Zet de 4 bestanden in dezelfde map en pas CANDIDATES aan.\"\n",
        "    )\n",
        "\n",
        "MODEL_PATH   = BUNDLE_DIR / \"cnn_hoest_vs_hart.tflite\"\n",
        "LABELS_PATH  = BUNDLE_DIR / \"labels.json\"\n",
        "MANIFEST_PATH= BUNDLE_DIR / \"manifest.json\"\n",
        "PREPROC_PATH = BUNDLE_DIR / \"preproces.py\"\n",
        "\n",
        "print(\"BUNDLE_DIR =\", BUNDLE_DIR.resolve())\n",
        "\n",
        "labels   = json.loads(LABELS_PATH.read_text(encoding=\"utf-8\"))\n",
        "manifest = json.loads(MANIFEST_PATH.read_text(encoding=\"utf-8\"))\n",
        "\n",
        "# Dynamisch importeren van bundel-preprocess\n",
        "spec = importlib.util.spec_from_file_location(\"bundle_preproces\", str(PREPROC_PATH))\n",
        "bundle_preproces = importlib.util.module_from_spec(spec); sys.modules[\"bundle_preproces\"] = bundle_preproces\n",
        "spec.loader.exec_module(bundle_preproces)  # type: ignore\n",
        "\n",
        "# Pad naar dataset met opnames (relatief t.o.v. models/)\n",
        "DATA_DIR = Path(\"../../data\")\n",
        "print(\"DATA_DIR =\", DATA_DIR.resolve())\n",
        "\n",
        "labels, manifest"
      ]
    },
    {
      "cell_type": "markdown",
      "metadata": {},
      "source": [
        "## 2) TFLite Interpreter klaarzetten\n",
        "We verwachten een input-shape zoals in het manifest (`[F, T, 1]`). We voegen zelf batch-dimensie toe naar `[1, F, T, 1]`."
      ]
    },
    {
      "cell_type": "code",
      "execution_count": 3,
      "id": "0bdfb043",
      "metadata": {},
      "outputs": [
        {
          "name": "stdout",
          "output_type": "stream",
          "text": [
            "TFLite backend: tensorflow 2.20.0\n",
            "Model input: [  1 513 182   1] <class 'numpy.float32'>\n",
            "Model output: [1 2] <class 'numpy.float32'>\n"
          ]
        },
        {
          "name": "stderr",
          "output_type": "stream",
          "text": [
            "c:\\Users\\Esmee Werk\\Documents\\Persoonlijke Projecten\\Lungsound-Annotation-Tool\\.venv\\Lib\\site-packages\\tensorflow\\lite\\python\\interpreter.py:457: UserWarning:     Warning: tf.lite.Interpreter is deprecated and is scheduled for deletion in\n",
            "    TF 2.20. Please use the LiteRT interpreter from the ai_edge_litert package.\n",
            "    See the [migration guide](https://ai.google.dev/edge/litert/migration)\n",
            "    for details.\n",
            "    \n",
            "  warnings.warn(_INTERPRETER_DELETION_WARNING)\n"
          ]
        }
      ],
      "source": [
        "def _get_tflite_interpreter():\n",
        "    # 1) Probeer tflite-runtime (lichtgewicht)\n",
        "    try:\n",
        "        from tflite_runtime.interpreter import Interpreter  # type: ignore\n",
        "        return Interpreter, \"tflite-runtime\"\n",
        "    except ModuleNotFoundError:\n",
        "        pass\n",
        "\n",
        "    # 2) Fallback: TensorFlow (heeft altijd tf.lite.Interpreter)\n",
        "    try:\n",
        "        import tensorflow as tf\n",
        "        Interpreter = tf.lite.Interpreter  # correcte import voor TF\n",
        "        return Interpreter, f\"tensorflow {tf.__version__}\"\n",
        "    except Exception as e:\n",
        "        raise ImportError(\n",
        "            \"Geen TFLite-backend gevonden. Installeer óf 'tflite-runtime' óf 'tensorflow>=2.9'.\\n\"\n",
        "            \"Voor Windows is 'tensorflow==2.17.1' de makkelijkste optie.\"\n",
        "        ) from e\n",
        "\n",
        "Interpreter, _backend = _get_tflite_interpreter()\n",
        "print(\"TFLite backend:\", _backend)\n",
        "\n",
        "interpreter = Interpreter(model_path=str(MODEL_PATH))\n",
        "interpreter.allocate_tensors()\n",
        "input_details = interpreter.get_input_details()\n",
        "output_details = interpreter.get_output_details()\n",
        "\n",
        "print(\"Model input:\", input_details[0][\"shape\"], input_details[0][\"dtype\"])\n",
        "print(\"Model output:\", output_details[0][\"shape\"], output_details[0][\"dtype\"])"
      ]
    },
    {
      "cell_type": "code",
      "execution_count": 6,
      "id": "97e27c89",
      "metadata": {},
      "outputs": [],
      "source": [
        "# Live reader-factory voor 3.0 s blokken met automatische resampling naar manifest['sample_rate'].\n",
        "import numpy as np\n",
        "import sounddevice as sd\n",
        "import librosa\n",
        "\n",
        "FS_TARGET = int(manifest.get(\"sample_rate\", 16000))\n",
        "WIN_SEC   = float(manifest.get(\"raw_window_seconds\", 3.0))\n",
        "\n",
        "class Mic3sReader:\n",
        "    def __init__(self, fs_target: int, seconds: float):\n",
        "        self.fs_target = int(fs_target)\n",
        "        self.seconds   = float(seconds)\n",
        "        self.done = False\n",
        "\n",
        "    def __enter__(self):\n",
        "        return self\n",
        "\n",
        "    def __exit__(self, exc_type, exc, tb):\n",
        "        return False\n",
        "\n",
        "    def _record_once(self, fs: int, seconds: float) -> np.ndarray:\n",
        "        frames = int(round(fs * seconds))\n",
        "        audio = sd.rec(frames, samplerate=fs, channels=1, dtype=\"float32\", blocking=True)\n",
        "        sd.wait()\n",
        "        y = audio[:, 0].astype(np.float32, copy=False)\n",
        "        return y\n",
        "\n",
        "    def read_bytes(self) -> bytes:\n",
        "        if self.done:\n",
        "            return b\"\"\n",
        "\n",
        "        # Probeer direct op de target sample rate; zo niet, gebruik device-default en resample.\n",
        "        try:\n",
        "            sd.check_input_settings(samplerate=self.fs_target, channels=1, dtype=\"float32\")\n",
        "            cap_fs = self.fs_target\n",
        "        except Exception:\n",
        "            dev = sd.query_devices(kind=\"input\")\n",
        "            cap_fs = int(round(dev[\"default_samplerate\"]))\n",
        "\n",
        "        y = self._record_once(fs=cap_fs, seconds=self.seconds)\n",
        "\n",
        "        if cap_fs != self.fs_target:\n",
        "            y = librosa.resample(y, orig_sr=cap_fs, target_sr=self.fs_target, res_type=\"kaiser_best\")\n",
        "\n",
        "        # Forceer exacte lengte (kan door resampling nét afwijken)\n",
        "        n_need = int(self.fs_target * self.seconds)\n",
        "        if len(y) < n_need:\n",
        "            y = np.pad(y, (0, n_need - len(y)))\n",
        "        elif len(y) > n_need:\n",
        "            y = y[:n_need]\n",
        "\n",
        "        # Float32 [-1,1] → int16 PCM bytes\n",
        "        y = np.clip(y, -1.0, 1.0)\n",
        "        x_i16 = (y * 32767.0).astype(np.int16, copy=False)\n",
        "        self.done = True\n",
        "        return x_i16.tobytes()\n",
        "\n",
        "def reader_factory_live():\n",
        "    return Mic3sReader(fs_target=FS_TARGET, seconds=WIN_SEC)"
      ]
    },
    {
      "cell_type": "code",
      "execution_count": 7,
      "metadata": {},
      "outputs": [],
      "source": [
        "import numpy as np\n",
        "\n",
        "def softmax(x):\n",
        "    x = np.array(x, dtype=np.float32)\n",
        "    x = x - np.max(x, axis=-1, keepdims=True)\n",
        "    e = np.exp(x)\n",
        "    return e / np.sum(e, axis=-1, keepdims=True)\n",
        "\n",
        "def run_inference(x_F_T_1: np.ndarray):\n",
        "    # Verwacht (F,T,1) float32; we voegen batch toe\n",
        "    x = np.expand_dims(x_F_T_1, axis=0)\n",
        "    # Cast/shape naar modelverwachting\n",
        "    idx = input_details[0][\"index\"]\n",
        "    x = x.astype(input_details[0][\"dtype\"], copy=False)\n",
        "    interpreter.set_tensor(idx, x)\n",
        "    interpreter.invoke()\n",
        "    out = interpreter.get_tensor(output_details[0][\"index\"])\n",
        "    out = np.squeeze(out, axis=0)\n",
        "    return out"
      ]
    },
    {
      "cell_type": "markdown",
      "metadata": {},
      "source": [
        "## 3) Reader-factory voor LIVE microfoon (3.0 s blokken, 0 s overlap)\n",
        "De bundel verwacht **int16 mono PCM** op de sample rate uit het manifest. Niet alle laptops ondersteunen precies 15.75 kHz; in dat geval vangen we dit op door op een ondersteunde rate op te nemen en **te resamplen** naar het manifest (`sample_rate`).\n",
        "\n",
        "- Venster: `raw_window_seconds` uit het manifest (hier 3.0 s)\n",
        "- Overlap: 0 s → dus één blok per 3 s"
      ]
    },
    {
      "cell_type": "code",
      "execution_count": 8,
      "id": "0cb33652",
      "metadata": {},
      "outputs": [
        {
          "name": "stdout",
          "output_type": "stream",
          "text": [
            "Manifest (samenvatting):\n",
            "  sample_rate         : 15750\n",
            "  raw_window_seconds  : 3.0\n",
            "  normalization       : {'mean': 0.0, 'std': 1.0}\n",
            "  bandpass            : {'low_hz': 100.0, 'high_hz': 3000.0, 'order': 4, 'zero_phase': False}\n"
          ]
        }
      ],
      "source": [
        "# Plaats dit blok vlak vóór je aanroep naar build_preprocessor(...)\n",
        "\n",
        "# Veiligheidsdefaults + bandpass instellen\n",
        "manifest.setdefault(\"raw_window_seconds\", 3.0)   # 3.0s vensters, 0 overlap\n",
        "manifest.setdefault(\"sample_rate\", 16000)        # pas aan indien anders getraind\n",
        "\n",
        "# Normalisatie afdwingen als dict\n",
        "norm = manifest.get(\"normalization\")\n",
        "if not isinstance(norm, dict):\n",
        "    manifest[\"normalization\"] = {\"mean\": 0.0, \"std\": 1.0}\n",
        "else:\n",
        "    manifest[\"normalization\"].setdefault(\"mean\", 0.0)\n",
        "    manifest[\"normalization\"].setdefault(\"std\", 1.0)\n",
        "\n",
        "# Bandpass: low=50 Hz, high=3000 Hz, orde=4, GEEN zero-phase\n",
        "bp = manifest.get(\"bandpass\") or {}\n",
        "bp.update({\n",
        "    \"low_hz\": 100.0,\n",
        "    \"high_hz\": 3000.0,\n",
        "    \"order\": 4,\n",
        "    \"zero_phase\": False,   # geen filtfilt: introduceert fase (zoals gevraagd)\n",
        "})\n",
        "manifest[\"bandpass\"] = bp\n",
        "\n",
        "print(\"Manifest (samenvatting):\")\n",
        "print(\"  sample_rate         :\", manifest[\"sample_rate\"])\n",
        "print(\"  raw_window_seconds  :\", manifest[\"raw_window_seconds\"])\n",
        "print(\"  normalization       :\", manifest[\"normalization\"])\n",
        "print(\"  bandpass            :\", manifest[\"bandpass\"])\n",
        "\n",
        "# Nu de preprocessor bouwen met deze manifest-instellingen\n",
        "preproc_live = bundle_preproces.build_preprocessor(reader_factory_live, cfg=None, manifest=manifest)"
      ]
    },
    {
      "cell_type": "code",
      "execution_count": 9,
      "metadata": {},
      "outputs": [
        {
          "name": "stdout",
          "output_type": "stream",
          "text": [
            "Neem eenmalig 3.0 s op om preproc-shape te verifiëren…\n",
            "Preproc output shape/dtype: (513, 182, 1) float32\n"
          ]
        }
      ],
      "source": [
        "import sounddevice as sd\n",
        "import numpy as np\n",
        "import librosa\n",
        "\n",
        "FS_TARGET = int(manifest.get(\"sample_rate\", 15750))\n",
        "WIN_SEC   = float(manifest.get(\"raw_window_seconds\", 3.0))\n",
        "N_SAMPLES_TARGET = int(FS_TARGET * WIN_SEC)\n",
        "\n",
        "class Mic3sReader:\n",
        "    def __init__(self, fs_target: int, seconds: float):\n",
        "        self.fs_target = int(fs_target)\n",
        "        self.seconds   = float(seconds)\n",
        "        self.done = False\n",
        "\n",
        "    def __enter__(self):\n",
        "        return self\n",
        "\n",
        "    def __exit__(self, exc_type, exc, tb):\n",
        "        return False\n",
        "\n",
        "    def _record_once(self, fs: int, seconds: float) -> np.ndarray:\n",
        "        frames = int(round(fs * seconds))\n",
        "        audio = sd.rec(frames, samplerate=fs, channels=1, dtype=\"float32\", blocking=True)\n",
        "        sd.wait()\n",
        "        y = audio[:,0].astype(np.float32, copy=False)\n",
        "        return y\n",
        "\n",
        "    def read_bytes(self) -> bytes:\n",
        "        if self.done:\n",
        "            return b\"\"\n",
        "        # Probeer direct op FS_TARGET; als het faalt, valt terug op device-default\n",
        "        try:\n",
        "            sd.check_input_settings(samplerate=self.fs_target, channels=1, dtype=\"float32\")\n",
        "            cap_fs = self.fs_target\n",
        "        except Exception:\n",
        "            cap_fs = sd.query_devices(kind=\"input\")[\"default_samplerate\"]\n",
        "            cap_fs = int(round(cap_fs))  # bv. 48000 of 44100\n",
        "\n",
        "        y = self._record_once(fs=cap_fs, seconds=self.seconds)\n",
        "        if cap_fs != self.fs_target:\n",
        "            # Resample naar target\n",
        "            y = librosa.resample(y, orig_sr=cap_fs, target_sr=self.fs_target, res_type=\"kaiser_best\")\n",
        "            # Zorg exact op lengte\n",
        "            n_need = int(self.fs_target * self.seconds)\n",
        "            if len(y) < n_need:\n",
        "                y = np.pad(y, (0, n_need - len(y)))\n",
        "            elif len(y) > n_need:\n",
        "                y = y[:n_need]\n",
        "\n",
        "        # Float32 → int16 PCM bytes\n",
        "        y = np.clip(y, -1.0, 1.0)\n",
        "        x_i16 = (y * 32767.0).astype(np.int16, copy=False)\n",
        "        self.done = True\n",
        "        return x_i16.tobytes()\n",
        "\n",
        "def reader_factory_live():\n",
        "    return Mic3sReader(fs_target=FS_TARGET, seconds=WIN_SEC)\n",
        "\n",
        "# Bouw de bundel-preprocessor met onze reader-factory\n",
        "preproc_live = bundle_preproces.build_preprocessor(reader_factory_live, cfg=None, manifest=manifest)\n",
        "\n",
        "# Test één sample-preprocess om de shape te checken (neemt ~3s op)\n",
        "print(\"Neem eenmalig 3.0 s op om preproc-shape te verifiëren…\")\n",
        "arr = preproc_live()\n",
        "print(\"Preproc output shape/dtype:\", arr.shape, arr.dtype)"
      ]
    },
    {
      "cell_type": "markdown",
      "metadata": {},
      "source": [
        "## 4) Live inferentie-loop (elke 3.0 s)\n",
        "Deze loop neemt steeds een nieuw 3.0 s blok op, voert preprocessing uit, en draait het model. Geen overlap."
      ]
    },
    {
      "cell_type": "code",
      "execution_count": 10,
      "id": "ca3f61af",
      "metadata": {},
      "outputs": [
        {
          "name": "stdout",
          "output_type": "stream",
          "text": [
            "{'name': 'Microfoonmatrix (3- Intel® Smar', 'index': 1, 'hostapi': 0, 'max_input_channels': 4, 'max_output_channels': 0, 'default_low_input_latency': 0.09, 'default_low_output_latency': 0.09, 'default_high_input_latency': 0.18, 'default_high_output_latency': 0.18, 'default_samplerate': 44100.0}\n"
          ]
        }
      ],
      "source": [
        "import sounddevice as sd\n",
        "\n",
        "sd.default.device = (1, None)  # index 1 = interne mic (MME)\n",
        "print(sd.query_devices(sd.default.device[0]))"
      ]
    },
    {
      "cell_type": "code",
      "execution_count": 11,
      "id": "65d3ec0e",
      "metadata": {},
      "outputs": [
        {
          "name": "stdout",
          "output_type": "stream",
          "text": [
            "Opnemen via interne microfoon...\n",
            "Klaar. RMS: 0.0001586376\n",
            "Bestand opgeslagen als mic_test.wav\n"
          ]
        }
      ],
      "source": [
        "import numpy as np, soundfile as sf\n",
        "\n",
        "fs = 16000\n",
        "dur = 3\n",
        "print(\"Opnemen via interne microfoon...\")\n",
        "audio = sd.rec(int(fs*dur), samplerate=fs, channels=1, dtype=\"float32\")\n",
        "sd.wait()\n",
        "print(\"Klaar. RMS:\", np.sqrt(np.mean(audio**2)))\n",
        "\n",
        "sf.write(\"mic_test.wav\", audio, fs)\n",
        "print(\"Bestand opgeslagen als mic_test.wav\")"
      ]
    },
    {
      "cell_type": "code",
      "execution_count": 12,
      "metadata": {},
      "outputs": [
        {
          "name": "stdout",
          "output_type": "stream",
          "text": [
            "Labels: ['Hart', 'Hoest']\n",
            "Start live inferentie. Druk op Stop (interrupteer de cel) om te beëindigen.\n",
            "[   3.67s] Top=Hart    p=0.703  voted=-        rms≈0.000  GATED\n",
            "[   7.05s] Top=Hart    p=0.702  voted=-        rms≈0.000  GATED\n",
            "[  10.44s] Top=Hart    p=0.709  voted=-        rms≈0.022  \n",
            "[  13.79s] Top=Hart    p=0.706  voted=-        rms≈0.004  GATED\n",
            "[  17.17s] Top=Hart    p=0.726  voted=-        rms≈0.093  \n",
            "[  20.54s] Top=Hart    p=0.703  voted=-        rms≈0.000  GATED\n",
            "[  23.91s] Top=Hart    p=0.725  voted=Hart     rms≈0.108  \n",
            "[  27.27s] Top=Hart    p=0.701  voted=Hart     rms≈0.000  GATED\n"
          ]
        },
        {
          "ename": "KeyboardInterrupt",
          "evalue": "",
          "output_type": "error",
          "traceback": [
            "\u001b[31m---------------------------------------------------------------------------\u001b[39m",
            "\u001b[31mKeyboardInterrupt\u001b[39m                         Traceback (most recent call last)",
            "\u001b[36mCell\u001b[39m\u001b[36m \u001b[39m\u001b[32mIn[12]\u001b[39m\u001b[32m, line 38\u001b[39m\n\u001b[32m     36\u001b[39m \u001b[38;5;28;01mwhile\u001b[39;00m \u001b[38;5;28;01mTrue\u001b[39;00m:\n\u001b[32m     37\u001b[39m     t_start = time.time()\n\u001b[32m---> \u001b[39m\u001b[32m38\u001b[39m     i, p, probs, rms = \u001b[43mpredict_once\u001b[49m\u001b[43m(\u001b[49m\u001b[43mpreproc_live\u001b[49m\u001b[43m)\u001b[49m\n\u001b[32m     39\u001b[39m     stamp = time.time() - t0\n\u001b[32m     41\u001b[39m     \u001b[38;5;66;03m# Energie-gate: negeer stille/heel lage-energie segmenten\u001b[39;00m\n",
            "\u001b[36mCell\u001b[39m\u001b[36m \u001b[39m\u001b[32mIn[12]\u001b[39m\u001b[32m, line 26\u001b[39m, in \u001b[36mpredict_once\u001b[39m\u001b[34m(preproc_callable)\u001b[39m\n\u001b[32m     25\u001b[39m \u001b[38;5;28;01mdef\u001b[39;00m\u001b[38;5;250m \u001b[39m\u001b[34mpredict_once\u001b[39m(preproc_callable):\n\u001b[32m---> \u001b[39m\u001b[32m26\u001b[39m     x = \u001b[43mpreproc_callable\u001b[49m\u001b[43m(\u001b[49m\u001b[43m)\u001b[49m                 \u001b[38;5;66;03m# verwacht (F,T,1)\u001b[39;00m\n\u001b[32m     27\u001b[39m     rms_proxy = segment_rms_from_preproc_input(x)\n\u001b[32m     28\u001b[39m     logits = run_inference(x)              \u001b[38;5;66;03m# (num_classes,)\u001b[39;00m\n",
            "\u001b[36mFile \u001b[39m\u001b[32mc:\\Users\\Esmee Werk\\Documents\\Persoonlijke Projecten\\Lungsound-Annotation-Tool\\experiments\\pipeline-pi\\models\\bundles\\hart-vs-hoest-1.0.0\\preproces.py:50\u001b[39m, in \u001b[36mbuild_preprocessor.<locals>.preproc\u001b[39m\u001b[34m()\u001b[39m\n\u001b[32m     48\u001b[39m \u001b[38;5;28;01mwith\u001b[39;00m reader_factory() \u001b[38;5;28;01mas\u001b[39;00m reader:\n\u001b[32m     49\u001b[39m     \u001b[38;5;28;01mwhile\u001b[39;00m \u001b[38;5;28mlen\u001b[39m(buf) < need:\n\u001b[32m---> \u001b[39m\u001b[32m50\u001b[39m         raw = \u001b[43mreader\u001b[49m\u001b[43m.\u001b[49m\u001b[43mread_bytes\u001b[49m\u001b[43m(\u001b[49m\u001b[43m)\u001b[49m\n\u001b[32m     51\u001b[39m         \u001b[38;5;28;01mif\u001b[39;00m raw: buf.extend(raw)\n\u001b[32m     52\u001b[39m x = np.frombuffer(\u001b[38;5;28mmemoryview\u001b[39m(buf)[:need], dtype=np.int16).astype(np.float32) / \u001b[32m32768.0\u001b[39m\n",
            "\u001b[36mCell\u001b[39m\u001b[36m \u001b[39m\u001b[32mIn[9]\u001b[39m\u001b[32m, line 39\u001b[39m, in \u001b[36mMic3sReader.read_bytes\u001b[39m\u001b[34m(self)\u001b[39m\n\u001b[32m     36\u001b[39m     cap_fs = sd.query_devices(kind=\u001b[33m\"\u001b[39m\u001b[33minput\u001b[39m\u001b[33m\"\u001b[39m)[\u001b[33m\"\u001b[39m\u001b[33mdefault_samplerate\u001b[39m\u001b[33m\"\u001b[39m]\n\u001b[32m     37\u001b[39m     cap_fs = \u001b[38;5;28mint\u001b[39m(\u001b[38;5;28mround\u001b[39m(cap_fs))  \u001b[38;5;66;03m# bv. 48000 of 44100\u001b[39;00m\n\u001b[32m---> \u001b[39m\u001b[32m39\u001b[39m y = \u001b[38;5;28;43mself\u001b[39;49m\u001b[43m.\u001b[49m\u001b[43m_record_once\u001b[49m\u001b[43m(\u001b[49m\u001b[43mfs\u001b[49m\u001b[43m=\u001b[49m\u001b[43mcap_fs\u001b[49m\u001b[43m,\u001b[49m\u001b[43m \u001b[49m\u001b[43mseconds\u001b[49m\u001b[43m=\u001b[49m\u001b[38;5;28;43mself\u001b[39;49m\u001b[43m.\u001b[49m\u001b[43mseconds\u001b[49m\u001b[43m)\u001b[49m\n\u001b[32m     40\u001b[39m \u001b[38;5;28;01mif\u001b[39;00m cap_fs != \u001b[38;5;28mself\u001b[39m.fs_target:\n\u001b[32m     41\u001b[39m     \u001b[38;5;66;03m# Resample naar target\u001b[39;00m\n\u001b[32m     42\u001b[39m     y = librosa.resample(y, orig_sr=cap_fs, target_sr=\u001b[38;5;28mself\u001b[39m.fs_target, res_type=\u001b[33m\"\u001b[39m\u001b[33mkaiser_best\u001b[39m\u001b[33m\"\u001b[39m)\n",
            "\u001b[36mCell\u001b[39m\u001b[36m \u001b[39m\u001b[32mIn[9]\u001b[39m\u001b[32m, line 23\u001b[39m, in \u001b[36mMic3sReader._record_once\u001b[39m\u001b[34m(self, fs, seconds)\u001b[39m\n\u001b[32m     21\u001b[39m \u001b[38;5;28;01mdef\u001b[39;00m\u001b[38;5;250m \u001b[39m\u001b[34m_record_once\u001b[39m(\u001b[38;5;28mself\u001b[39m, fs: \u001b[38;5;28mint\u001b[39m, seconds: \u001b[38;5;28mfloat\u001b[39m) -> np.ndarray:\n\u001b[32m     22\u001b[39m     frames = \u001b[38;5;28mint\u001b[39m(\u001b[38;5;28mround\u001b[39m(fs * seconds))\n\u001b[32m---> \u001b[39m\u001b[32m23\u001b[39m     audio = \u001b[43msd\u001b[49m\u001b[43m.\u001b[49m\u001b[43mrec\u001b[49m\u001b[43m(\u001b[49m\u001b[43mframes\u001b[49m\u001b[43m,\u001b[49m\u001b[43m \u001b[49m\u001b[43msamplerate\u001b[49m\u001b[43m=\u001b[49m\u001b[43mfs\u001b[49m\u001b[43m,\u001b[49m\u001b[43m \u001b[49m\u001b[43mchannels\u001b[49m\u001b[43m=\u001b[49m\u001b[32;43m1\u001b[39;49m\u001b[43m,\u001b[49m\u001b[43m \u001b[49m\u001b[43mdtype\u001b[49m\u001b[43m=\u001b[49m\u001b[33;43m\"\u001b[39;49m\u001b[33;43mfloat32\u001b[39;49m\u001b[33;43m\"\u001b[39;49m\u001b[43m,\u001b[49m\u001b[43m \u001b[49m\u001b[43mblocking\u001b[49m\u001b[43m=\u001b[49m\u001b[38;5;28;43;01mTrue\u001b[39;49;00m\u001b[43m)\u001b[49m\n\u001b[32m     24\u001b[39m     sd.wait()\n\u001b[32m     25\u001b[39m     y = audio[:,\u001b[32m0\u001b[39m].astype(np.float32, copy=\u001b[38;5;28;01mFalse\u001b[39;00m)\n",
            "\u001b[36mFile \u001b[39m\u001b[32mc:\\Users\\Esmee Werk\\Documents\\Persoonlijke Projecten\\Lungsound-Annotation-Tool\\.venv\\Lib\\site-packages\\sounddevice.py:279\u001b[39m, in \u001b[36mrec\u001b[39m\u001b[34m(frames, samplerate, channels, dtype, out, mapping, blocking, **kwargs)\u001b[39m\n\u001b[32m    276\u001b[39m     ctx.read_indata(indata)\n\u001b[32m    277\u001b[39m     ctx.callback_exit()\n\u001b[32m--> \u001b[39m\u001b[32m279\u001b[39m \u001b[43mctx\u001b[49m\u001b[43m.\u001b[49m\u001b[43mstart_stream\u001b[49m\u001b[43m(\u001b[49m\u001b[43mInputStream\u001b[49m\u001b[43m,\u001b[49m\u001b[43m \u001b[49m\u001b[43msamplerate\u001b[49m\u001b[43m,\u001b[49m\u001b[43m \u001b[49m\u001b[43mctx\u001b[49m\u001b[43m.\u001b[49m\u001b[43minput_channels\u001b[49m\u001b[43m,\u001b[49m\n\u001b[32m    280\u001b[39m \u001b[43m                 \u001b[49m\u001b[43mctx\u001b[49m\u001b[43m.\u001b[49m\u001b[43minput_dtype\u001b[49m\u001b[43m,\u001b[49m\u001b[43m \u001b[49m\u001b[43mcallback\u001b[49m\u001b[43m,\u001b[49m\u001b[43m \u001b[49m\u001b[43mblocking\u001b[49m\u001b[43m,\u001b[49m\u001b[43m \u001b[49m\u001b[43m*\u001b[49m\u001b[43m*\u001b[49m\u001b[43mkwargs\u001b[49m\u001b[43m)\u001b[49m\n\u001b[32m    281\u001b[39m \u001b[38;5;28;01mreturn\u001b[39;00m out\n",
            "\u001b[36mFile \u001b[39m\u001b[32mc:\\Users\\Esmee Werk\\Documents\\Persoonlijke Projecten\\Lungsound-Annotation-Tool\\.venv\\Lib\\site-packages\\sounddevice.py:2644\u001b[39m, in \u001b[36m_CallbackContext.start_stream\u001b[39m\u001b[34m(self, StreamClass, samplerate, channels, dtype, callback, blocking, **kwargs)\u001b[39m\n\u001b[32m   2642\u001b[39m _last_callback = \u001b[38;5;28mself\u001b[39m\n\u001b[32m   2643\u001b[39m \u001b[38;5;28;01mif\u001b[39;00m blocking:\n\u001b[32m-> \u001b[39m\u001b[32m2644\u001b[39m     \u001b[38;5;28;43mself\u001b[39;49m\u001b[43m.\u001b[49m\u001b[43mwait\u001b[49m\u001b[43m(\u001b[49m\u001b[43m)\u001b[49m\n",
            "\u001b[36mFile \u001b[39m\u001b[32mc:\\Users\\Esmee Werk\\Documents\\Persoonlijke Projecten\\Lungsound-Annotation-Tool\\.venv\\Lib\\site-packages\\sounddevice.py:2653\u001b[39m, in \u001b[36m_CallbackContext.wait\u001b[39m\u001b[34m(self, ignore_errors)\u001b[39m\n\u001b[32m   2647\u001b[39m \u001b[38;5;250m\u001b[39m\u001b[33;03m\"\"\"Wait for finished_callback.\u001b[39;00m\n\u001b[32m   2648\u001b[39m \n\u001b[32m   2649\u001b[39m \u001b[33;03mCan be interrupted with a KeyboardInterrupt.\u001b[39;00m\n\u001b[32m   2650\u001b[39m \n\u001b[32m   2651\u001b[39m \u001b[33;03m\"\"\"\u001b[39;00m\n\u001b[32m   2652\u001b[39m \u001b[38;5;28;01mtry\u001b[39;00m:\n\u001b[32m-> \u001b[39m\u001b[32m2653\u001b[39m     \u001b[38;5;28;43mself\u001b[39;49m\u001b[43m.\u001b[49m\u001b[43mevent\u001b[49m\u001b[43m.\u001b[49m\u001b[43mwait\u001b[49m\u001b[43m(\u001b[49m\u001b[43m)\u001b[49m\n\u001b[32m   2654\u001b[39m \u001b[38;5;28;01mfinally\u001b[39;00m:\n\u001b[32m   2655\u001b[39m     \u001b[38;5;28mself\u001b[39m.stream.close(ignore_errors)\n",
            "\u001b[36mFile \u001b[39m\u001b[32m~\\AppData\\Local\\Programs\\Python\\Python313\\Lib\\threading.py:659\u001b[39m, in \u001b[36mEvent.wait\u001b[39m\u001b[34m(self, timeout)\u001b[39m\n\u001b[32m    657\u001b[39m signaled = \u001b[38;5;28mself\u001b[39m._flag\n\u001b[32m    658\u001b[39m \u001b[38;5;28;01mif\u001b[39;00m \u001b[38;5;129;01mnot\u001b[39;00m signaled:\n\u001b[32m--> \u001b[39m\u001b[32m659\u001b[39m     signaled = \u001b[38;5;28;43mself\u001b[39;49m\u001b[43m.\u001b[49m\u001b[43m_cond\u001b[49m\u001b[43m.\u001b[49m\u001b[43mwait\u001b[49m\u001b[43m(\u001b[49m\u001b[43mtimeout\u001b[49m\u001b[43m)\u001b[49m\n\u001b[32m    660\u001b[39m \u001b[38;5;28;01mreturn\u001b[39;00m signaled\n",
            "\u001b[36mFile \u001b[39m\u001b[32m~\\AppData\\Local\\Programs\\Python\\Python313\\Lib\\threading.py:359\u001b[39m, in \u001b[36mCondition.wait\u001b[39m\u001b[34m(self, timeout)\u001b[39m\n\u001b[32m    357\u001b[39m \u001b[38;5;28;01mtry\u001b[39;00m:    \u001b[38;5;66;03m# restore state no matter what (e.g., KeyboardInterrupt)\u001b[39;00m\n\u001b[32m    358\u001b[39m     \u001b[38;5;28;01mif\u001b[39;00m timeout \u001b[38;5;129;01mis\u001b[39;00m \u001b[38;5;28;01mNone\u001b[39;00m:\n\u001b[32m--> \u001b[39m\u001b[32m359\u001b[39m         \u001b[43mwaiter\u001b[49m\u001b[43m.\u001b[49m\u001b[43macquire\u001b[49m\u001b[43m(\u001b[49m\u001b[43m)\u001b[49m\n\u001b[32m    360\u001b[39m         gotit = \u001b[38;5;28;01mTrue\u001b[39;00m\n\u001b[32m    361\u001b[39m     \u001b[38;5;28;01melse\u001b[39;00m:\n",
            "\u001b[31mKeyboardInterrupt\u001b[39m: "
          ]
        }
      ],
      "source": [
        "import time\n",
        "import numpy as np\n",
        "from collections import deque, Counter\n",
        "\n",
        "# Controleer even dat de labelvolgorde klopt\n",
        "print(\"Labels:\", labels)  # verwacht zoiets als [\"Hoest\", \"Normaal\"] of [\"Normaal\", \"Hoest\"]\n",
        "\n",
        "CONF_THRESH = 0.60     # minimale confidence voor een enkele beslissing\n",
        "RMS_THRESH  = 0.010    # minimale RMS van het ruwe 3s-segment (0..1 float, tuneer op jouw microfoon)\n",
        "VOTE_K      = 3        # majority vote over de laatste K beslissingen\n",
        "\n",
        "recent = deque(maxlen=VOTE_K)\n",
        "\n",
        "def segment_rms_from_preproc_input(x):\n",
        "    \"\"\"\n",
        "    Schatting van input-energie. Als je preproces x=(F,T,1) features geeft,\n",
        "    is de RMS van features minder betekenisvol. Daarom vragen we de preproc\n",
        "    om ook de ruwe PCM te geven (optioneel), maar als dat niet kan,\n",
        "    gebruiken we een proxy: gemiddelde log-magnitude over het featureframe.\n",
        "    Pas dit aan als jouw preproces ruwe audio kan teruggeven.\n",
        "    \"\"\"\n",
        "    # Proxy: gemiddelde absolute waarde van featuretensor\n",
        "    return float(np.mean(np.abs(x)))\n",
        "\n",
        "def predict_once(preproc_callable):\n",
        "    x = preproc_callable()                 # verwacht (F,T,1)\n",
        "    rms_proxy = segment_rms_from_preproc_input(x)\n",
        "    logits = run_inference(x)              # (num_classes,)\n",
        "    probs  = softmax(logits)\n",
        "    top_i  = int(np.argmax(probs))\n",
        "    top_p  = float(probs[top_i])\n",
        "    return top_i, top_p, probs, rms_proxy\n",
        "\n",
        "print(\"Start live inferentie. Druk op Stop (interrupteer de cel) om te beëindigen.\")\n",
        "t0 = time.time()\n",
        "while True:\n",
        "    t_start = time.time()\n",
        "    i, p, probs, rms = predict_once(preproc_live)\n",
        "    stamp = time.time() - t0\n",
        "\n",
        "    # Energie-gate: negeer stille/heel lage-energie segmenten\n",
        "    gated = rms < RMS_THRESH\n",
        "\n",
        "    # Beslissing op dit segment\n",
        "    decision = labels[i]\n",
        "    confident = (p >= CONF_THRESH) and (not gated)\n",
        "\n",
        "    # Majority vote buffer bijhouden alleen als we niet ‘gaten’\n",
        "    if not gated:\n",
        "        recent.append(decision)\n",
        "\n",
        "    # Majority vote over laatste K\n",
        "    voted = None\n",
        "    if len(recent) == VOTE_K:\n",
        "        cnt = Counter(recent)\n",
        "        voted, n = cnt.most_common(1)[0]\n",
        "        # optioneel: eis dat majority ook met confidence van dit segment samengaat\n",
        "        # (kun je weglaten als je K al beschermend genoeg vindt)\n",
        "\n",
        "    # Logging\n",
        "    print(\n",
        "        f\"[{stamp:7.2f}s] \"\n",
        "        f\"Top={decision:<7} p={p:.3f}  \"\n",
        "        f\"voted={voted or '-':<7}  \"\n",
        "        f\"rms≈{rms:.3f}  \"\n",
        "        f\"{'GATED' if gated else ''}\"\n",
        "    )\n",
        "\n",
        "    # Eenvoudige trigger (bijv. voor live feedback):\n",
        "    # Als majority op 'Hoest' uitkomt én niet gated, dan 'Hoest' melden\n",
        "    if voted == \"Hoest\" and not gated:\n",
        "        print(\">>> Detectie: Hoest\")\n",
        "\n",
        "    # 0 s overlap ⇒ geen extra slaap; opname+preprocess beslaat ~WIN_SEC zelf"
      ]
    },
    {
      "cell_type": "code",
      "execution_count": null,
      "id": "dbbd98fe",
      "metadata": {},
      "outputs": [],
      "source": []
    }
  ],
  "metadata": {
    "kernelspec": {
      "display_name": ".venv",
      "language": "python",
      "name": "python3"
    },
    "language_info": {
      "codemirror_mode": {
        "name": "ipython",
        "version": 3
      },
      "file_extension": ".py",
      "mimetype": "text/x-python",
      "name": "python",
      "nbconvert_exporter": "python",
      "pygments_lexer": "ipython3",
      "version": "3.13.7"
    }
  },
  "nbformat": 4,
  "nbformat_minor": 5
}
