{
 "cells": [
  {
   "cell_type": "code",
   "execution_count": null,
   "id": "83404174",
   "metadata": {},
   "outputs": [],
   "source": [
    "import numpy as np\n",
    "from scipy.signal import butter, sosfiltfilt, sosfilt\n",
    "\n",
    "def bandpass_filter(x, fs, fc=(50.0, 100.0), order=2, zero_phase=True, axis=-1):\n",
    "    \"\"\"\n",
    "    Apply a Butterworth band-pass filter to a 1D/ND array.\n",
    "\n",
    "    Parameters\n",
    "    ----------\n",
    "    x : array_like\n",
    "        Signal array. Can be 1D or ND; filtering is applied along `axis`.\n",
    "    fs : float\n",
    "        Sampling frequency in Hz.\n",
    "    fc : (float, float)\n",
    "        (low_cut, high_cut) in Hz.\n",
    "    order : int\n",
    "        Filter order per section (like MATLAB's butter order argument).\n",
    "        Note: Zero-phase (filtfilt) effectively doubles the order in magnitude response.\n",
    "    zero_phase : bool\n",
    "        If True, use sosfiltfilt (zero-phase, no group delay). If False, use sosfilt.\n",
    "    axis : int\n",
    "        Axis along which to filter.\n",
    "\n",
    "    Returns\n",
    "    -------\n",
    "    y : ndarray\n",
    "        Filtered signal, same shape as x.\n",
    "    \"\"\"\n",
    "    low, high = fc\n",
    "    if not (0 < low < high < fs/2):\n",
    "        raise ValueError(f\"Cutoffs must satisfy 0 < {low=} < {high=} < Nyquist ({fs/2}).\")\n",
    "\n",
    "    wn = (low/(fs/2), high/(fs/2))\n",
    "    sos = butter(order, wn, btype='band', output='sos')\n",
    "\n",
    "    if zero_phase:\n",
    "        # Zero-phase (like MATLAB filtfilt): no phase shift; magnitude order doubled.\n",
    "        return sosfiltfilt(sos, np.asarray(x), axis=axis)\n",
    "    else:\n",
    "        return sosfilt(sos, np.asarray(x), axis=axis)"
   ]
  },
  {
   "cell_type": "code",
   "execution_count": null,
   "id": "6eb96398",
   "metadata": {},
   "outputs": [],
   "source": [
    "# Parameters\n",
    "Fs = 15750\n",
    "fc = (50, 100)\n",
    "\n",
    "# x = jouw ruwe int16 data als numpy array\n",
    "# y = bandpass-filtered data\n",
    "y = bandpass_filter(x, Fs, fc=fc, order=2, zero_phase=True)\n",
    "\n",
    "# (optioneel) tijd-as in milliseconden\n",
    "t_ms = np.arange(x.shape[-1]) * (1000.0 / Fs)"
   ]
  }
 ],
 "metadata": {
  "language_info": {
   "name": "python"
  }
 },
 "nbformat": 4,
 "nbformat_minor": 5
}
